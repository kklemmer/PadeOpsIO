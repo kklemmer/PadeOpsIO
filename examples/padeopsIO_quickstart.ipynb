{
 "cells": [
  {
   "cell_type": "markdown",
   "metadata": {},
   "source": [
    "# "
   ]
  },
  {
   "cell_type": "markdown",
   "metadata": {},
   "source": [
    "# PadeOpsIO overview\n",
    "\n",
    "PadeOpsIO is a tool for loading, visualizing, and analyzing data from [PadeOps](https://github.com/FPAL-Stanford-University/PadeOps), an LES and DNS box code. \n",
    "\n",
    "## Dependencies\n",
    "------\n",
    "Aside from standard python library packages, PadeOpsIO requires: <br>\n",
    "* `numpy` <br>\n",
    "* `scipy` <br>\n",
    "* `matplotlib` <br>\n",
    "* `f90nml` (This package isn't required unless loading data from Fortran; conveinently parses input namelist files)\n",
    "\n",
    "Start with importing the code. Once downloaded into a folder locally from Github, add the module folder to the system path and import the module: \n",
    "```\n",
    "import sys\n",
    "sys.path.append(r'MODULE DIRECTORY HERE')\n",
    "import padeopsIO as pio\n",
    "```"
   ]
  },
  {
   "cell_type": "code",
   "execution_count": 1,
   "metadata": {},
   "outputs": [
    {
     "name": "stderr",
     "output_type": "stream",
     "text": [
      "c:\\Users\\kirby\\OneDrive - Massachusetts Institute of Technology\\01_MIT\\howland\\padeopsIO\\padeopsIO\\..\\padeopsIO\\budgetIO.py:10: UserWarning: Could not find package f90nml in system path. \n",
      "  warnings.warn(\"Could not find package f90nml in system path. \")\n",
      "c:\\Users\\kirby\\OneDrive - Massachusetts Institute of Technology\\01_MIT\\howland\\padeopsIO\\padeopsIO\\..\\padeopsIO\\turbineArray.py:10: UserWarning: Could not find package f90nml in system path. \n",
      "  warnings.warn(\"Could not find package f90nml in system path. \")\n"
     ]
    }
   ],
   "source": [
    "import sys\n",
    "sys.path.append(r'../')\n",
    "import padeopsIO as pio"
   ]
  },
  {
   "cell_type": "markdown",
   "metadata": {},
   "source": [
    "If the `f90nml` package is not installed in the user's virtual environment, importing `padeopsIO\\budgetIO.py` and `padeopsIO\\turbineArray.py` will throw a warning message. This is OK for normal use. \n",
    "\n",
    "The `budgetIO.py` file is the main submodule for loading files. Within `budgetIO.py`, the `BudgetIO` class imports PadeOps data into Python so it can be read and analyzed. If reading directly from PadeOps output files, \n",
    "```\n",
    "run = pio.BudgetIO(r'DATA DIRECTORY HERE', padeops=True)\n",
    "```\n",
    "The directory is expected to contain several files, namely: <br>\n",
    "* an input file (Fortran namelist) `<FILENAME>.dat` <br>\n",
    "* a turbine file (Fortran namelist) `./turb/ActuatorDisk_XXXX_input.inp` <br>\n",
    "* Any associated output files from the simulation\n",
    "\n",
    "If reading from data exported in `.npz` file format, \n",
    "```\n",
    "run = pio.BudgetIO(r'DATA DIRECTORY HERE')\n",
    "```\n",
    "and expects the following files: <br>\n",
    "* a metadata file `<FILENAME>_metadata.npz` <br>\n",
    "* a data file `<FILENAME>_budgets.npz` <br>\n",
    "Importantly, when importing `.npz` files, the directory name is expected to be the same as the filename. \n"
   ]
  },
  {
   "cell_type": "code",
   "execution_count": 2,
   "metadata": {},
   "outputs": [
    {
     "name": "stdout",
     "output_type": "stream",
     "text": [
      "<padeopsIO.budgetIO.BudgetIO object at 0x00000209AF626700>\n"
     ]
    }
   ],
   "source": [
    "run = pio.BudgetIO(r'../test_data')\n",
    "print(run)"
   ]
  },
  {
   "cell_type": "markdown",
   "metadata": {},
   "source": [
    "Now `run` is an object that refers to an object that references the exported data saved in `../case_04/case_04_metadata.npz` and `../case_04/case_04_budgets.npz`. We can show the metadata from the input file by printing `run.input_nml`"
   ]
  },
  {
   "cell_type": "code",
   "execution_count": 3,
   "metadata": {},
   "outputs": [
    {
     "name": "stdout",
     "output_type": "stream",
     "text": [
      "OrderedDict([('input', OrderedDict([('inputdir', '/scratch/08445/tg877441/AD_coriolis_shear/coriolis_adm_tests/case_04'), ('outputdir', '/scratch/08445/tg877441/AD_coriolis_shear/coriolis_adm_tests/case_04'), ('nx', 256), ('ny', 256), ('nz', 128), ('tstop', 320.0), ('cfl', 1.4), ('dt', 0.001), ('prow', 0), ('pcol', 0), ('userestartfile', False), ('restartfile_tid', 10000), ('restartfile_rid', 1)])), ('numerics', OrderedDict([('timesteppingscheme', 2), ('advectionterm', 1), ('numericalschemevert', 1), ('computestokespressure', True), ('usedealiasfiltervert', False), ('t_divergencecheck', 50), ('dealiasfact', 0.6667)])), ('io', OrderedDict([('runid', 1), ('t_restartdump', 10000), ('t_datadump', 100), ('iotype', 0), ('dumpplanes', False), ('t_planedump', 100), ('t_start_planedump', 1), ('t_stop_planedump', 5000)])), ('stats', OrderedDict([('tid_statsdump', 20000), ('tid_compstats', 10), ('tsimstartstats', 20.0), ('normstatsbyustar', False), ('computespectra', False), ('timeavgfullfields', False)])), ('os_interactions', OrderedDict([('usesysteminteractions', True), ('tsysteminteractions', 10), ('controldir', 'null')])), ('physics', OrderedDict([('isinviscid', True), ('usecoriolis', True), ('useextraforcing', False), ('usegeostrophicforcing', True), ('isstratified', False), ('pr', 0.6), ('ro', 10000000000.0), ('re', 10000000000.0), ('fr', 10000000000.0), ('g_geostrophic', 1.0), ('g_alpha', 0.0), ('latitude', 45.0), ('dpfdx', 0.0), ('dpfdy', 0.0), ('dpfdz', 0.0), ('usesgs', True), ('usehitforcing', False), ('frameangle', 0.0), ('usescalars', False)])), ('pressure_calc', OrderedDict([('fastcalcpressure', True), ('storepressure', True), ('p_dumpfreq', 100), ('p_compfreq', 10)])), ('bcs', OrderedDict([('usefringe', True), ('periodicinz', False), ('botwall', 2), ('topwall', 2), ('usespongelayer', False), ('zstsponge', 0.8), ('spongetscale', 50.0)])), ('sgs_model', OrderedDict([('sgsmodelid', 1), ('dynamicproceduretype', 0), ('csgs', 1.3), ('explicitcalcedgeeddyviscosity', True)])), ('windturbines', OrderedDict([('usewindturbines', True), ('num_turbines', 1), ('adm', True), ('turbinfodir', '/scratch/08445/tg877441/AD_coriolis_shear/coriolis_adm_tests/case_04/turb'), ('adm_type', 5), ('powerdumpdir', 'XXX'), ('usedynamicyaw', False), ('yawupdateinterval', 10000), ('inputdirdyaw', 'XXX')])), ('fringe', OrderedDict([('fringe_xst', 0.75), ('fringe_xen', 0.95), ('fringe_delta_st_x', 0.15), ('fringe_delta_en_x', 0.05), ('fringe_yst', 0.8), ('fringe_yen', 1.0), ('fringe_delta_st_y', 0.2), ('fringe_delta_en_y', 0.05), ('lambdafact', 0.95)])), ('kspreprocess', OrderedDict([('preprocessforks', False), ('ksoutputdir', 'SomeLocation'), ('ksrunid', 99), ('t_dumpksprep', 10)])), ('budget_time_avg', OrderedDict([('do_budgets', True), ('budgettype', 1), ('budgets_dir', '/scratch/08445/tg877441/AD_coriolis_shear/coriolis_adm_tests/case_04'), ('tidx_compute', 5), ('tidx_dump', 1000), ('tidx_budget_start', 500), ('restart_budgets', False), ('restart_rid', 1), ('restart_tid', 35000), ('restart_counter', 5544)])), ('ad_coriolisinput', OrderedDict([('lx', 25.0), ('ly', 10.0), ('lz', 5.0), ('uinflow', 1.0), ('vinflow', 0.0), ('inflowprofileamplit', 0.0), ('inflowprofilethick', 5.0), ('inflowprofiletype', 0)])), ('auxiliary', {'last_n': 500, 'last_tidx': 3159, 'turbineArray': {'turb_dir': '/scratch/08445/tg877441/AD_coriolis_shear/coriolis_adm_tests/case_04/turb', 'ADM_type': 5, 'verbose': False, 'num_turbines': 1, 'array': OrderedDict([('actuator_disk', OrderedDict([('xloc', 5.0), ('yloc', 5.0), ('zloc', 2.5), ('diam', 1.0), ('ct', 1.33), ('tilt', 0.0), ('yaw', 0.0), ('filterwidth', 0.336), ('usecorrection', True)]))]), 'thickness': 1.5, 'usecorrection': True, 'filterwidth': 0.336, 'xloc': 5.0, 'yloc': 5.0, 'zloc': 2.5, 'diam': 1.0, 'ct': 1.33, 'tilt': 0.0, 'yaw': 0.0}})])\n"
     ]
    }
   ],
   "source": [
    "print(run.input_nml)"
   ]
  },
  {
   "cell_type": "markdown",
   "metadata": {},
   "source": [
    "## Loading data\n",
    "--------------\n",
    "Let's load some data from the budgets file. We can load entire (time-averaged) budgets of the full flow field, or of just a \"slice\" (either 1D, 2D, or 3D) through some of the flow field. Typically, the computational domain is much larger than the domain of interest, so let's just load a 3D slice cut into the full domain. \n",
    "\n",
    "(For loading full budgets, use `see run.read_budgets`)\n",
    "\n",
    "We can see what quantities we have access to by calling `run.existing_terms`"
   ]
  },
  {
   "cell_type": "code",
   "execution_count": 4,
   "metadata": {},
   "outputs": [
    {
     "name": "stdout",
     "output_type": "stream",
     "text": [
      "['xAD', 'pbar', 'ySGS', 'zSGS', 'dpdz', 'dpdy', 'xSGS', 'wbar', 'dpdx', 'vbar', 'ubar']\n",
      "dict_keys(['ubar', 'x', 'y', 'z', 'extent'])\n"
     ]
    }
   ],
   "source": [
    "print(run.existing_terms())\n",
    "\n",
    "sl = run.slice(budget_terms=['ubar'], xlim=[-2, 10], ylim=[-2, 2], zlim=0)\n",
    "print(sl.keys())"
   ]
  },
  {
   "cell_type": "markdown",
   "metadata": {},
   "source": [
    "Now we have a dictionary `sl` with a 2D array `'ubar'`. The other keys in the dictionary `'x'`, `'y'`, and `'z'` correspond with the the grid points at which the slice is taken. Here, `zlim=0` means that `z` is just a scalar, but because `xlim` and `ylim` are ranges, `x` and `y` will be arrays. \n",
    "\n",
    "We can plot this 2D field as an image: "
   ]
  },
  {
   "cell_type": "code",
   "execution_count": 5,
   "metadata": {},
   "outputs": [
    {
     "data": {
      "image/png": "[encoded data removed]",
      "text/plain": [
       "<Figure size 432x288 with 1 Axes>"
      ]
     },
     "metadata": {
      "needs_background": "light"
     },
     "output_type": "display_data"
    }
   ],
   "source": [
    "import matplotlib.pyplot as plt\n",
    "\n",
    "fig, ax = plt.subplots()\n",
    "im = ax.imshow(sl['ubar'])\n",
    "plt.show()"
   ]
  },
  {
   "cell_type": "markdown",
   "metadata": {},
   "source": [
    "This is supposed to be a wind turbine wake, so we need to fix some things. \n",
    "1. Fortran indexes in ijk format (instead of xy format), so if we are displaying data with `plt.imshow`, the array needs to be transposed. <br>\n",
    "2. Let's change the color axes and pick a new colormap. <br>\n",
    "3. We can set the extents of the image to correspond with the physical domain by using the `extent` keyword. <br>\n",
    "4. Add labels to make the plot meaningful. There is a dictionary returned by `pio.budgetkey.key_labels()` that matches the keys used in the budgets and slices for field variables with appropriate variable names (e.g. `'ubar'` matches to $\\bar{u}/U$). "
   ]
  },
  {
   "cell_type": "code",
   "execution_count": 6,
   "metadata": {},
   "outputs": [
    {
     "data": {
      "image/png": "[encoded data removed]",
      "text/plain": [
       "<Figure size 432x288 with 2 Axes>"
      ]
     },
     "metadata": {
      "needs_background": "light"
     },
     "output_type": "display_data"
    }
   ],
   "source": [
    "keylab = pio.budgetkey.key_labels()\n",
    "\n",
    "fig, ax = plt.subplots()\n",
    "im = ax.imshow(sl['ubar'].T, extent=sl['extent'], origin='lower', clim=[0.5, 1.5], cmap='coolwarm')\n",
    "\n",
    "ax.set_xlabel(keylab['x'])\n",
    "ax.set_ylabel(keylab['y'])\n",
    "plt.colorbar(im, label=keylab['ubar'])  # adds a colorbar\n",
    "\n",
    "plt.show()"
   ]
  },
  {
   "cell_type": "markdown",
   "metadata": {},
   "source": [
    "Calling `run.slice` loads the budgets automatically because they are needed to construct the slice. Once budgets are loaded, they stay loaded in the `budget` field of the `BudgetIO` object. We can access the same data as in the plot above from the budget dictionary in the object variables. \n",
    "\n",
    "The problem is that the array `run.budget['ubar']` is 3D and is indexed from zero to $n - 1$, where $n$ is the number of points along the $x$, $y$, or $z$ axis. This data happens to contain 256 points in $x$ and $y$, and 128 points in $z$. This example data has a wind turbine located at the origin of the turbine-normalized axes, but the index at which the $z=0$ plane lies is not trivial. We can use `run.get_xids` to query the index, and plot the data directly from the budgets. (We could also use `run.get_xids` to get limits on the $x$ and $y$ indices)\n",
    "\n",
    "()"
   ]
  },
  {
   "cell_type": "code",
   "execution_count": 7,
   "metadata": {},
   "outputs": [
    {
     "name": "stdout",
     "output_type": "stream",
     "text": [
      "Shape of velocity fields:  (256, 256, 128)\n",
      "Plotting xy-slice at zid = 63\n"
     ]
    },
    {
     "data": {
      "image/png": "[encoded data removed]",
      "text/plain": [
       "<Figure size 432x288 with 2 Axes>"
      ]
     },
     "metadata": {
      "needs_background": "light"
     },
     "output_type": "display_data"
    }
   ],
   "source": [
    "print(\"Shape of velocity fields: \", run.budget['ubar'].shape)\n",
    "\n",
    "zid = run.get_xids(z=0)\n",
    "ubar_xy = run.budget['ubar'][:, :, zid]\n",
    "extent_xy = [run.xLine[0], run.xLine[-1], run.yLine[0], run.yLine[-1]]\n",
    "\n",
    "print('Plotting xy-slice at zid =', zid)\n",
    "\n",
    "fig, ax = plt.subplots()\n",
    "im = ax.imshow(ubar_xy.T, extent=extent_xy, origin='lower', clim=[0.5, 1.5], cmap='coolwarm')\n",
    "\n",
    "ax.set_xlabel(keylab['x'])\n",
    "ax.set_ylabel(keylab['y'])\n",
    "plt.colorbar(im, label=keylab['ubar'])  # adds a colorbar\n",
    "\n",
    "plt.show()"
   ]
  },
  {
   "cell_type": "markdown",
   "metadata": {},
   "source": [
    "There are a few things to observe about this (otherwise rather boring flow field). \n",
    "\n",
    "First, PadeOps is a pseudo-spectral code which uses Fourier transforms to compute the Navier-Stokes equations. This requires periodicity, so there is a \"fringe region\" beyond $x/D \\approx 15$ in which perturbations in the flow are actively being \"smoothed out\" so the field is periodic in $x$ (the fringe region actually starts at $x/D = 0.75L_x$, which is at $x/D = 13.75$ for the turbine-normalized coordinates here). The problem is already \"periodic\" in $y$ so there is no fringe region, and PadeOps is using a finite-differencing scheme in the $z$ direction which is slower but does not require spectral derivatives (and therefore periodicity). The fringe region is unphysical (purely for the purpose of running fast, spectral LES) and therefore shouldn't be included in any analysis. \n",
    "\n",
    "Second, it is rather boring. There is a turbine at $(x, y) = (0, 0)$, but the flow is mostly laminar despite this being a large eddy simulation. This is because the inflow is turbulence-free and uniform, so turbulence is only \"triggered\" much farther downstream than the computational domain allows. \n",
    "\n",
    "Third, most of the domain is important only for computation (e.g. enforcing periodicty and minimizing flow blockage) but rather boring otherwise, which is the benefit of looking at slices instead of full flow fields. "
   ]
  }
 ],
 "metadata": {
  "kernelspec": {
   "display_name": "Python 3.9.7 ('research')",
   "language": "python",
   "name": "python3"
  },
  "language_info": {
   "codemirror_mode": {
    "name": "ipython",
    "version": 3
   },
   "file_extension": ".py",
   "mimetype": "text/x-python",
   "name": "python",
   "nbconvert_exporter": "python",
   "pygments_lexer": "ipython3",
   "version": "3.9.7"
  },
  "orig_nbformat": 4,
  "vscode": {
   "interpreter": {
    "hash": "ea0bacf3f8e7e0ed007ef0e20d2545f6296d65368a9a988abac27b363fa50e95"
   }
  }
 },
 "nbformat": 4,
 "nbformat_minor": 2
}
